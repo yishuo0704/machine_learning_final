{
 "cells": [
  {
   "cell_type": "code",
   "execution_count": 1,
   "metadata": {},
   "outputs": [],
   "source": [
    "from keras.preprocessing import image\n",
    "import numpy as np\n",
    "import tensorflow as tf\n",
    "from keras import layers\n",
    "from keras import models"
   ]
  },
  {
   "cell_type": "code",
   "execution_count": 2,
   "metadata": {},
   "outputs": [
    {
     "name": "stdout",
     "output_type": "stream",
     "text": [
      "Model: \"sequential\"\n",
      "_________________________________________________________________\n",
      "Layer (type)                 Output Shape              Param #   \n",
      "=================================================================\n",
      "conv1d (Conv1D)              (None, 131, 64)           1344      \n",
      "_________________________________________________________________\n",
      "max_pooling1d (MaxPooling1D) (None, 65, 64)            0         \n",
      "_________________________________________________________________\n",
      "conv1d_1 (Conv1D)            (None, 46, 64)            81984     \n",
      "_________________________________________________________________\n",
      "max_pooling1d_1 (MaxPooling1 (None, 23, 64)            0         \n",
      "_________________________________________________________________\n",
      "lstm (LSTM)                  (None, 512)               1181696   \n",
      "_________________________________________________________________\n",
      "dense (Dense)                (None, 120)               61560     \n",
      "_________________________________________________________________\n",
      "dense_1 (Dense)              (None, 1)                 121       \n",
      "=================================================================\n",
      "Total params: 1,326,705\n",
      "Trainable params: 1,326,705\n",
      "Non-trainable params: 0\n",
      "_________________________________________________________________\n"
     ]
    }
   ],
   "source": [
    "model = models.Sequential()\n",
    "\n",
    "model.add(layers.Conv1D(64, kernel_size=20, activation='relu',input_shape=(150, 1)))\n",
    "model.add(layers.MaxPooling1D(2))\n",
    "model.add(layers.Conv1D(64, kernel_size=20, activation='relu'))\n",
    "model.add(layers.MaxPooling1D(2))\n",
    "model.add(layers.LSTM(512))\n",
    "model.add(layers.Dense(120))\n",
    "model.add(layers.Dense(1))\n",
    "model.compile(loss='binary_crossentropy', optimizer='adam', metrics=[\"acc\"])          \n",
    "model.summary()"
   ]
  },
  {
   "cell_type": "code",
   "execution_count": 3,
   "metadata": {},
   "outputs": [],
   "source": [
    "import os\n",
    "import cv2"
   ]
  },
  {
   "cell_type": "code",
   "execution_count": 4,
   "metadata": {},
   "outputs": [],
   "source": [
    "train_dir = 'train'\n",
    "test_dir = 'test'\n",
    "vali_dir = 'validation'\n",
    "train_typea_dir = os.path.join(train_dir,'type_a')\n",
    "train_typeb_dir = os.path.join(train_dir,'type_b')\n",
    "train_typec_dir = os.path.join(train_dir,'type_c')\n",
    "train_typed_dir = os.path.join(train_dir,'type_d')\n",
    "train_typee_dir = os.path.join(train_dir,'type_e')"
   ]
  },
  {
   "cell_type": "code",
   "execution_count": null,
   "metadata": {},
   "outputs": [],
   "source": [
    "'''\n",
    "train = cv2.imread(\"train/type_a/s1.png\")\n",
    "trainX = train[0:320, 0:119]\n",
    "array_of_train = []\n",
    "cut_img = []\n",
    "#print(train[239].size)\n",
    "for cut_range in range(120, 145):\n",
    "    cut_img.append((train[cut_range]))\n",
    "    np.array(cut_img) \n",
    "    #print(cut_range)\n",
    "    print(np.array(cut_img).size)\n",
    "\n",
    "#cut_img=np.array(cut_img)\n",
    "#print(np.array(cut_img).size)\n",
    "#print(cut_img)\n",
    "#array_of_train.append(cut_img)\n",
    "cv2.imshow('My Image', train)\n",
    "cv2.waitKey(0)\n",
    "cv2.destroyAllWindows()\n",
    "''''''"
   ]
  },
  {
   "cell_type": "code",
   "execution_count": 5,
   "metadata": {},
   "outputs": [],
   "source": [
    "array_of_train = []\n",
    "array_of_label = []\n",
    "# this function is for read image,the input is directory name\n",
    "def read_directory(directory_name):\n",
    "    # this loop is for read each image in this foder,directory_name is the foder name with images.\n",
    "    for filename in range (int(len(os.listdir(r\"./\"+directory_name))/2)):\n",
    "        #print(filename) #just for test\n",
    "        #img is used to store the image data\n",
    "        train = cv2.imread(directory_name + \"/s\" + str(filename+1)+\"_init.png\", cv2.IMREAD_GRAYSCALE)\n",
    "        label = cv2.imread(directory_name + \"/s\" + str(filename+1)+\".png\", cv2.IMREAD_GRAYSCALE)\n",
    "        train = train[0:320, 0:120]\n",
    "        label = label[0:320, 0:120]\n",
    "\n",
    "        array_of_train.append(train)\n",
    "        array_of_label.append(label)\n",
    "   \n",
    "        #print(label)\n",
    "    print(np.array(array_of_train[0]).shape)\n",
    "    #cv2.imshow('My Image', array_of_train[20])\n",
    "    #cv2.waitKey(0)\n",
    "    #cv2.destroyAllWindows()\n",
    "    return array_of_train, array_of_label\n"
   ]
  },
  {
   "cell_type": "code",
   "execution_count": 6,
   "metadata": {},
   "outputs": [
    {
     "name": "stdout",
     "output_type": "stream",
     "text": [
      "(240, 120)\n"
     ]
    }
   ],
   "source": [
    "train_data = read_directory(\"train/type_a\")"
   ]
  },
  {
   "cell_type": "code",
   "execution_count": 7,
   "metadata": {},
   "outputs": [
    {
     "data": {
      "text/plain": [
       "(72, 240, 120)"
      ]
     },
     "execution_count": 7,
     "metadata": {},
     "output_type": "execute_result"
    }
   ],
   "source": [
    "np.array(array_of_train).shape"
   ]
  },
  {
   "cell_type": "code",
   "execution_count": 8,
   "metadata": {},
   "outputs": [
    {
     "data": {
      "text/plain": [
       "(2073600, 1)"
      ]
     },
     "execution_count": 8,
     "metadata": {},
     "output_type": "execute_result"
    }
   ],
   "source": [
    "from sklearn.preprocessing import MinMaxScaler\n",
    "data_reshape = np.array(array_of_train).reshape(-1,1).astype('float32')\n",
    "sc = MinMaxScaler(feature_range = (0, 1))\n",
    "training_set_scaled = sc.fit_transform(data_reshape)\n",
    "np.shape(data_reshape)"
   ]
  },
  {
   "cell_type": "code",
   "execution_count": 9,
   "metadata": {},
   "outputs": [],
   "source": [
    "look_back = 150\n",
    "test_size = 1000000\n",
    "train, test = training_set_scaled[:-test_size], training_set_scaled[-test_size-look_back:] "
   ]
  },
  {
   "cell_type": "code",
   "execution_count": 10,
   "metadata": {},
   "outputs": [],
   "source": [
    "def create_dataset(dataset, look_back=1):\n",
    "    dataX, dataY = [], []\n",
    "    for i in range(len(dataset)-look_back):\n",
    "        a = dataset[i:(i+look_back), 0]\n",
    "        dataX.append(a)\n",
    "        dataY.append(dataset[i + look_back, 0])\n",
    "    return np.array(dataX), np.array(dataY)"
   ]
  },
  {
   "cell_type": "code",
   "execution_count": 11,
   "metadata": {},
   "outputs": [],
   "source": [
    "trainX, trainY = create_dataset(train, look_back)\n",
    "testX, testY = create_dataset(test, look_back)\n",
    "trainX = np.reshape(trainX, (trainX.shape[0], 150, 1))\n",
    "testX = np.reshape(testX, (testX.shape[0], 150, 1))\n",
    "#print(trainX.shape)\n",
    "#print(testX.shape)\n",
    "#, trainY\n",
    "#, testY"
   ]
  },
  {
   "cell_type": "code",
   "execution_count": null,
   "metadata": {},
   "outputs": [
    {
     "name": "stdout",
     "output_type": "stream",
     "text": [
      "Epoch 1/100\n",
      " 121/1074 [==>...........................] - ETA: 12:44 - loss: 0.6188 - acc: 0.9430"
     ]
    }
   ],
   "source": [
    "hist = model.fit(trainX, trainY, epochs=100, batch_size=1000, validation_data=(testX, testY))"
   ]
  },
  {
   "cell_type": "code",
   "execution_count": null,
   "metadata": {},
   "outputs": [],
   "source": [
    "import matplotlib.pyplot as plt\n",
    "\n",
    "acc = hist.history['acc']\n",
    "val_acc = hist.history['val_acc']\n",
    "loss = hist.history['loss']\n",
    "val_loss = hist.history['val_loss']\n",
    "\n",
    "epochs = range(len(acc))\n",
    "\n",
    "plt.plot(epochs, acc, 'bo', label='Training acc')\n",
    "plt.plot(epochs, val_acc, 'b', label='Validation acc')\n",
    "plt.title('Training and validation accuracy')\n",
    "plt.legend()\n",
    "#plt.savefig('accu.png')\n",
    "\n",
    "plt.figure()\n",
    "\n",
    "plt.plot(epochs, loss, 'bo', label='Training loss')\n",
    "plt.plot(epochs, val_loss, 'b', label='Validation loss')\n",
    "plt.title('Training and validation loss')\n",
    "plt.legend()\n",
    "#plt.savefig('loss.png')\n",
    "\n",
    "plt.show()\n"
   ]
  },
  {
   "cell_type": "code",
   "execution_count": null,
   "metadata": {},
   "outputs": [],
   "source": []
  }
 ],
 "metadata": {
  "kernelspec": {
   "display_name": "Python 3",
   "language": "python",
   "name": "python3"
  },
  "language_info": {
   "codemirror_mode": {
    "name": "ipython",
    "version": 3
   },
   "file_extension": ".py",
   "mimetype": "text/x-python",
   "name": "python",
   "nbconvert_exporter": "python",
   "pygments_lexer": "ipython3",
   "version": "3.8.8"
  }
 },
 "nbformat": 4,
 "nbformat_minor": 4
}
